{
 "cells": [
  {
   "cell_type": "markdown",
   "metadata": {},
   "source": [
    "# Lab: Finding Similar Items\n",
    "Data Mining 2021/2022  \n",
    "Danny Plenge and Gosia Migut  \n",
    "Revised by Aleksander Buszydlik\n",
    "\n",
    "**WHAT** This *optional* lab consists of several programming exercises and insight questions. These exercises are meant to let you practice with the theory covered in: [Chapter 3][1] from \"Mining of Massive Datasets\" by J. Leskovec, A. Rajaraman, J. D. Ullman.  \n",
    "\n",
    "**WHY** Practicing, both through programming and answering the insight questions, aims at deepening your knowledge and preparing you for the exam.  \n",
    "\n",
    "**HOW** Follow the exercises in this notebook either on your own or with a friend. Use [StackOverflow][2]\n",
    "to discuss the questions with your peers. For additional questions and feedback please consult the TAs during the assigned lab session. The answers to these exercises will not be provided.\n",
    "\n",
    "[1]: http://infolab.stanford.edu/~ullman/mmds/ch3.pdf\n",
    "[2]: https://stackoverflow.com/c/tud-cs/questions"
   ]
  },
  {
   "cell_type": "markdown",
   "metadata": {},
   "source": [
    "#### Summary\n",
    "In the following exercises you will create algorithms for finding similar items in a dataset. \n",
    "* Exercise 1: Shingling   \n",
    "* Exercise 2: MinHashing\n",
    "* Exercise 3: Locality Sensitive Hashing\n"
   ]
  },
  {
   "cell_type": "markdown",
   "metadata": {},
   "source": [
    "## Exercise 1: Shingling\n",
    "\n",
    "As you learned during the lecture, shingling allows us to assess the similarity between two documents which finds its uses, for example, in plagiarism detection. A k-shingle refers to any sequence of k characters that appears in the original document. That way, if two documents are similar they will also contain similar k-shingles. The value of k will depend on the case but, ideally, we want to make sure that the probability of encountering any single k-shingle is relatively low. In this exercise you will implement a set of functions which will allow us to compare the similarity of two arbitrary strings."
   ]
  },
  {
   "cell_type": "markdown",
   "metadata": {},
   "source": [
    "### Step 1: Implement `shingle_string`\n",
    "\n",
    "First we will implement the `shingle_string` function. This function will take as an argument a string and the size parameter k, cut the string into shingles of size k, and return the set of newly-created shingles. \n",
    "\n",
    "For example, if the input string is \"shingling\" the resulting string ShingleSet, with a k of 2 should be: {\"sh\", \"hi\", \"in\", \"ng\", \"gl\", \"li\"}\n",
    "\n",
    "Implement this function and verify that it works as intended."
   ]
  },
  {
   "cell_type": "code",
   "execution_count": null,
   "metadata": {},
   "outputs": [],
   "source": [
    "import numpy as np\n",
    "\n",
    "def shingle_string(string, k):\n",
    "    \"\"\"\n",
    "    This function takes as argument some string and cuts it up in shingles of size k.\n",
    "    For example, input (\"shingling\", 2) -> {\"sh\", \"hi\", \"in\", \"ng\", \"gl\", \"li\"}\n",
    "    :param string: The input string\n",
    "    :param k: The size of the shingles\n",
    "    :return: A set of shingles of size k\n",
    "    \"\"\"    \n",
    "    shingles = set()\n",
    "    \n",
    "    # START ANSWER\n",
    "    # END ANSWER    \n",
    "\n",
    "    return shingles\n",
    "\n",
    "\n",
    "assert shingle_string(\"shingling\", 1) == set({\"s\", \"h\", \"i\", \"n\", \"g\", \"l\"})\n",
    "assert shingle_string(\"shingling\", 2) == set({\"sh\", \"hi\", \"in\", \"ng\", \"gl\", \"li\"})\n",
    "assert shingle_string(\"shingling\", 9) == set({\"shingling\"})\n",
    "assert shingle_string(\"shingling\", 10) == set()"
   ]
  },
  {
   "cell_type": "markdown",
   "metadata": {},
   "source": [
    "$\\textbf{Question 1}$: What would be the output of the `shingle_string` with k set to 5? Will the resulting set increase or decrease in size? "
   ]
  },
  {
   "cell_type": "markdown",
   "metadata": {},
   "source": [
    "### Step 2: Implement `jaccard_distance`\n",
    "\n",
    "Next, we will implement the `jaccard_distance` function which takes as input two sets and computes the distance between them. Remember that the Jaccard distance can be calculated as follows: \n",
    "\n",
    "### <center> $d(A, B) = 1 - \\frac{| A \\cap B|}{|A \\cup B|}$ </center>\n",
    "\n"
   ]
  },
  {
   "cell_type": "code",
   "execution_count": null,
   "metadata": {},
   "outputs": [],
   "source": [
    "from numpy.testing import assert_almost_equal\n",
    "\n",
    "def jaccard_distance(a, b):\n",
    "    \"\"\"\n",
    "    This function takes as input two sets and computes the distance between them -> 1 - length(intersection)/length(union).\n",
    "    :param a: The first set to compare\n",
    "    :param b: The second set to compare\n",
    "    :return: The (Jaccard) distance between set 'a' and 'b' (0 =< distance =< 1)\n",
    "    \"\"\"    \n",
    "    \n",
    "    distance = -1.0\n",
    "    \n",
    "# START ANSWER\n",
    "# END ANSWER    \n",
    "\n",
    "    return distance\n",
    "\n",
    "assert jaccard_distance({\"sh\", \"hi\", \"ng\", \"gl\", \"li\"}, {\"sh\", \"hi\", \"ng\", \"gl\", \"li\"}) == 0\n",
    "assert jaccard_distance({\"sh\", \"hi\", \"ng\", \"gl\", \"li\"}, {\"sa\", \"am\", \"mp\", \"pl\", \"le\"}) == 1\n",
    "assert_almost_equal(jaccard_distance({\"sh\", \"hi\", \"ng\", \"gl\", \"li\"}, {\"sh\", \"hi\", \"ng\", \"gl\", \"le\", \"es\"}), 0.429, 3)"
   ]
  },
  {
   "cell_type": "markdown",
   "metadata": {},
   "source": [
    "### Step 3: Apply `shingle_string` and `jaccard_distance`\n",
    "\n",
    "Create two separate ShingleSets with k set to 5 (using shingleString from step 1) from the following strings:  \n",
    "* _The plane was ready for touch down_\n",
    "* _The quarterback scored a touchdown_\n",
    "\n",
    "Are these sentences very similar? Do you expect that the Jaccard distance between these two sentences will be large or small?  \n",
    "Calculate the Jaccard distance between these two sets using the function implemented in step 2."
   ]
  },
  {
   "cell_type": "code",
   "execution_count": null,
   "metadata": {},
   "outputs": [],
   "source": [
    "s1 = \"The plane was ready for touch down\"\n",
    "s2 = \"The quarterback scored a touchdown\"\n",
    "\n",
    "def jaccard_distance_on_strings(s1, s2):\n",
    "    \"\"\"\n",
    "    This function calculates the jaccard distance between two strings.\n",
    "    :param a: The first string\n",
    "    :param b: The second string to compare\n",
    "    :return: The (Jaccard) distance between string 'a' and 'b' (0 =< distance =< 1)\n",
    "    \"\"\"   \n",
    "\n",
    "    # START ANSWER\n",
    "    # END ANSWER\n",
    "    \n",
    "assert_almost_equal(jaccard_distance_on_strings(s1, s2), 0.966, 3)"
   ]
  },
  {
   "cell_type": "markdown",
   "metadata": {},
   "source": [
    "$\\textbf{Question 2}$: The jaccard distance you calculated for the above sentences should be equal to 0.97.\n",
    "What would happen if we lower our `k` to 1? Would it increase or decrease the distance between the two sets? Which `k` do you think would be appropriate for these two sentences? "
   ]
  },
  {
   "cell_type": "markdown",
   "metadata": {},
   "source": [
    "### Step 4: Implement `jaccard_distance_stripped`\n",
    "\n",
    "Both sentences from step 3 contain whitespaces, but it appears that they do not contribute much to the actual meaning of the sentence. An option would be to strip all whitespaces from the sentences before cutting them into shingles. Create a function that removes all whitespaces from the strings before creating any shingles and calculate the jaccard distance again."
   ]
  },
  {
   "cell_type": "code",
   "execution_count": null,
   "metadata": {},
   "outputs": [],
   "source": [
    "def jaccard_distance_stripped(s1, s2):\n",
    "    \"\"\"\n",
    "    This method computes the jaccard distance between two sets of shingles without any whitespaces in the original strings.\n",
    "    :param a: The first string to compare\n",
    "    :param b: The second string to compare\n",
    "    :return: The (Jaccard) distance between string 'a' and 'b' (0 =< distance =< 1)\n",
    "    \"\"\"  \n",
    "    \n",
    "    # START ANSWER\n",
    "    # END ANSWER\n",
    "\n",
    "assert_almost_equal(jaccard_distance_stripped(s1, s2), 0.888, 3)"
   ]
  },
  {
   "cell_type": "markdown",
   "metadata": {},
   "source": [
    "$\\textbf{Question 3}$: Did the jaccard distance between the two sets increase or decrease? Why is that?"
   ]
  },
  {
   "cell_type": "markdown",
   "metadata": {},
   "source": [
    "## Exercise 2: MinHashing\n",
    "\n",
    "We have successfully found the similarity between two strings, however, when working with a large set of documents this approach may be too expensive computationally. To that end, we employ MinHashing which allows us to efficiently estimate the Jaccard distance between documents. You will now learn how to create a MinHash signature matrix for a set of documents. In the following exercises you are given 4 ShingleSets: `s1` - `s4`, with `k = 1`."
   ]
  },
  {
   "cell_type": "code",
   "execution_count": null,
   "metadata": {},
   "outputs": [],
   "source": [
    "s1 = {\"a\", \"b\"}\n",
    "s2 = {\"a\", \"c\"}\n",
    "s3 = {\"d\", \"c\"}\n",
    "s4 = {\"g\", \"b\", \"a\"}\n",
    "\n",
    "# Initialize shingle sets\n",
    "sets = [s1, s2, s3, s4]"
   ]
  },
  {
   "cell_type": "markdown",
   "metadata": {},
   "source": [
    "### Step 1: Create a hashing function\n",
    "\n",
    "Create a function which hashes an integer $x$ given an $alpha$ and $beta$. This function should hash the value $x$ using the following formula:\n",
    "\n",
    "### <center> $h(x) = (x \\cdot alpha + beta) \\ mod \\ n$ </center>\n",
    "\n",
    "where $x$ is an integer and $n$ is the number of unique shingles of all sets. For example, given $x=3$ and $n=2$ you should get $h(x) = 0$."
   ]
  },
  {
   "cell_type": "code",
   "execution_count": null,
   "metadata": {},
   "outputs": [],
   "source": [
    "class HashFunction:\n",
    "    \"\"\"\n",
    "    This HashFunction class can be used to create an unique hash given an alpha and beta.\n",
    "    \"\"\"\n",
    "    def __init__(self, alpha, beta):\n",
    "        self.alpha = alpha\n",
    "        self.beta = beta\n",
    "\n",
    "    def hashf(self, x, n):\n",
    "        \"\"\"\n",
    "        Returns a hash given an integer x and n.\n",
    "        :param x: The value to be hashed\n",
    "        :param n: The number of unique shingles of all sets\n",
    "        :return: The hashed value x given alpha and beta\n",
    "        \"\"\"\n",
    "        \n",
    "        hash_value = 0\n",
    "        \n",
    "        # START ANSWER\n",
    "        \n",
    "        # make some changes\n",
    "        \n",
    "        # END ANSWER\n",
    "    \n",
    "        return hash_value\n",
    "\n",
    "# Assume alpha and beta equal 1\n",
    "h1 = HashFunction(1,1)\n",
    "\n",
    "# Solve \n",
    "assert h1.hashf(3, 2) == 0\n",
    "assert h1.hashf(4, 4) == 1\n",
    "assert h1.hashf(5, 7) == 6"
   ]
  },
  {
   "cell_type": "markdown",
   "metadata": {},
   "source": [
    "$\\textbf{Question 4}$: In order to gain some insight in computing minhash signature matrices, compute by hand the matrix for the sets of shingles given above using the the hash functions:\n",
    "* $h_1$ where $a=1$ and $b=1$\n",
    "* $h_2$ where $a=3$ and $b=1$.   \n",
    "\n",
    "Make sure to do this computation by hand! Refer to the slides and other study materials if you forgot how to do this.  "
   ]
  },
  {
   "cell_type": "markdown",
   "metadata": {},
   "source": [
    "### Step 2: Computing the signature matrix\n",
    "\n",
    "Next we are going to create two functions: \n",
    "* `shingle_space` which will return the all unique shingles among the sets \n",
    "* `compute_signature` which will create the minhash signature matrix from our sets s1-s4 given a number of hash functions.\n",
    "\n",
    "For the latter, you can make use of the pseudocode below.\n",
    "  \n",
    "```\n",
    "foreach shingle (x, index) in the shingle space do \n",
    "    foreach ShingleSet S do\n",
    "        if x ∈ S then\n",
    "            foreach hash function h do\n",
    "                signature(h, S) = min(h(index), signature(h, S))\n",
    "            end\n",
    "        end\n",
    "    end\n",
    "end\n",
    "```"
   ]
  },
  {
   "cell_type": "code",
   "execution_count": null,
   "metadata": {},
   "outputs": [],
   "source": [
    "# Initialize a list of hash functions\n",
    "hashes = list()\n",
    "\n",
    "h1 = HashFunction(1,1)\n",
    "h2 = HashFunction(3,1)\n",
    "\n",
    "hashes.append(h1)\n",
    "hashes.append(h2)"
   ]
  },
  {
   "cell_type": "code",
   "execution_count": null,
   "metadata": {},
   "outputs": [],
   "source": [
    "def shingle_space(sets):\n",
    "    \"\"\"\n",
    "    Sets up the total shingle space given the list of shingles (sets).\n",
    "    :param sets: A list of ShingleSets\n",
    "    :return: The ShingleSpace set\n",
    "    \"\"\"\n",
    "    space = set()\n",
    "    \n",
    "    # START ANSWER\n",
    "    # END ANSWER\n",
    "    \n",
    "    return space\n",
    "\n",
    "assert shingle_space([{\"a\", \"b\"}, {\"b\"}, {\"a\", \"c\"}, {\"b\", \"c\", \"d\"}]) == set({\"a\", \"b\", \"c\", \"d\"})\n",
    "assert shingle_space([{\"u\", \"v\"}, {\"u\", \"v\", \"x\"}, {\"y\", \"z\"}, {\"u\", \"y\", \"z\"}]) == set({\"u\",\"v\", \"x\", \"y\", \"z\"})"
   ]
  },
  {
   "cell_type": "code",
   "execution_count": null,
   "metadata": {},
   "outputs": [],
   "source": [
    "import numpy as np\n",
    "import sys\n",
    "\n",
    "space = shingle_space(sets)\n",
    "\n",
    "def compute_signature(space, hashes, sets):\n",
    "    \"\"\"\n",
    "    This function will calculate the minhash signature matrix from our sets s1-s4 \n",
    "    using the list of hash functions (hashes) and the shingle space (space)\n",
    "    :param space: The union of all unique shingles among the sets\n",
    "    :param hashes: The list of hash functions of arbitrary length\n",
    "    :param sets: The list of ShingleSets\n",
    "    :return: The Minhash signature matrix for the given sets of shingles\n",
    "    \"\"\"\n",
    "    \n",
    "    result = np.full((len(hashes), len(sets)), sys.maxsize)\n",
    "    sorted_space = sorted(space)\n",
    "    \n",
    "    # START ANSWER        \n",
    "    # END ANSWER\n",
    "    \n",
    "    return result\n",
    "\n",
    "compute_signature(space, hashes, sets)"
   ]
  },
  {
   "cell_type": "code",
   "execution_count": null,
   "metadata": {},
   "outputs": [],
   "source": [
    "# This part will allow you to test your code\n",
    "test_hashes = list()\n",
    "\n",
    "h3 = HashFunction(2, 3)\n",
    "h4 = HashFunction(4, 2)\n",
    "\n",
    "test_hashes.append(h3)\n",
    "test_hashes.append(h4)\n",
    "\n",
    "test_sets = [{\"u\", \"v\"}, {\"u\", \"v\", \"x\"}, {\"y\", \"z\"}, {\"u\", \"y\", \"z\"}]\n",
    "test_space = shingle_space(test_sets)\n",
    "             \n",
    "assert np.array_equal(compute_signature(test_space, test_hashes, test_sets), np.array([[0, 0, 1, 1], [1, 0, 3, 2]]))"
   ]
  },
  {
   "cell_type": "markdown",
   "metadata": {},
   "source": [
    "$\\textbf{Question 5}$: Compute the minhash signature matrix the function you have just implemented. Verify that the result of your implementation is correct by comparing the result of the program to your manual calculation."
   ]
  },
  {
   "cell_type": "markdown",
   "metadata": {},
   "source": [
    "## Exercise 3: Locality Sensitive Hashing"
   ]
  },
  {
   "cell_type": "markdown",
   "metadata": {},
   "source": [
    "Finally, we will implement a simple algorithm for Locality Sensitive Hashing. Say that you have access to millions of documents and want to find the similar ones. Any attempt to systematically scan through such a large corpus of documents is unlikely to work. Instead, we can use probability theory to our advantage and find as many matches as possible. Of course, we may find some pairs of documents which are not similar at all (false positives). We may also miss some similar documents (false negatives). Nevertheless, in most cases that is a small price to pay for an otherwise very efficient technique. Even better, using LSH we are in control of the probability of FPs and FNs which makes it applicable to different scenarios.\n",
    "\n",
    "Let's use the functions implemented in the previous exercises to compute a Locality-Sensitive Hashing table using the banding technique for minhashes as described in the lecture and in the book."
   ]
  },
  {
   "cell_type": "markdown",
   "metadata": {},
   "source": [
    "### Step 1: Generate random hash functions\n",
    "\n",
    "For this exercise we will need many hash functions. Construct a class which can create a hash function with a random $alpha$ and $beta$.  \n",
    "**Hint:** You can use `random.randint()` to generate a random number in the given range"
   ]
  },
  {
   "cell_type": "code",
   "execution_count": null,
   "metadata": {},
   "outputs": [],
   "source": [
    "import random\n",
    "\n",
    "class RandomHashFunction:\n",
    "    \"\"\"\n",
    "    This RandomHashFunction class can be used to create a random unique hash given an alpha and beta\n",
    "    \"\"\"\n",
    "    def __init__(self, alpha, beta):\n",
    "        # START ANSWER\n",
    "        # END ANSWER\n",
    "        \n",
    "    def hashf(self, x, n):\n",
    "        \"\"\"\n",
    "        Returns a random hash given an integer x and n\n",
    "        :param x: The value to be hashed\n",
    "        :param n: The number of unique shingles of all sets\n",
    "        :return: The hashed value x given alpha and beta\n",
    "        \"\"\"\n",
    "        hash_value = 0\n",
    "        \n",
    "        # START ANSWER\n",
    "        # END ANSWER\n",
    "        \n",
    "        return hash_value\n",
    "    "
   ]
  },
  {
   "cell_type": "markdown",
   "metadata": {},
   "source": [
    "### Step 2: Find potential candidates\n",
    "\n",
    "Now, create a function which, given a minhash table, computes the candidates using the LSH technique. For this you may use the pseudocode given below.  \n",
    "  \n",
    "```\n",
    "# Initialize buckets\n",
    "foreach band do\n",
    "    foreach set do\n",
    "        s = a column segment of length r, for this band and set\n",
    "        add set to buckets[hash(s)]\n",
    "    end\n",
    "end\n",
    "```  \n",
    "   \n",
    "```\n",
    "# Retrieve candidates\n",
    "foreach item in buckets[hash(s)] do\n",
    "    add [set, item] to the list of candidates\n",
    "end\n",
    "\n",
    "```\n",
    "\n",
    "**Hint:** You can use `hash()` function from Python library to calculate a bucket where the string should be stored.  \n",
    "**Hint:** You can use `itertools.combinations()` to find all pairs of potential candidates."
   ]
  },
  {
   "cell_type": "code",
   "execution_count": null,
   "metadata": {},
   "outputs": [],
   "source": [
    "import itertools\n",
    "def compute_candidates(mhs, bs, r):\n",
    "    \"\"\"\n",
    "    This function computes the candidates using the LSH technique given a Minhash table\n",
    "    :param mhs: The minhash signature matrix\n",
    "    :param bs: The bucketsize\n",
    "    :param r: The rows per band\n",
    "    :return: The list of candidates\n",
    "    \"\"\"\n",
    "    \n",
    "    assert(mhs.shape[0] % r == 0)\n",
    "    b = mhs.shape[0] / r\n",
    "    result = set()\n",
    "    buckets = list()\n",
    "  \n",
    "    for i in range(bs):\n",
    "        buckets.append(list())\n",
    "\n",
    "    # Initialize the buckets\n",
    "    for i in range(int(b)):\n",
    "        for j in range(mhs.shape[1]):\n",
    "            # Take a segment from an mhs column\n",
    "            col_segment = mhs[i*r:(i+1)*r,[j]]\n",
    "            \n",
    "            # Convert the column segment into a string\n",
    "            s = np.array2string(col_segment.flatten(), separator = '')\n",
    "            s = s[1:len(s)-1]\n",
    "            \n",
    "            # Append the index of the set to the corresponding bucket in the buckets list\n",
    "            # START ANSWER \n",
    "            # END ANSWER\n",
    "    \n",
    "    \n",
    "    # Retrieve the candidates\n",
    "    for item in buckets:   \n",
    "        item = set(item)\n",
    "        \n",
    "        # Add all the pairs of the potential nearest neighbors in the bucket to the resulting set. \n",
    "        # START ANSWER\n",
    "        # END ANSWER\n",
    "        \n",
    "    return result"
   ]
  },
  {
   "cell_type": "markdown",
   "metadata": {},
   "source": [
    "$\\textbf{Question 6}$: An important issue with this algorithm is that it will work suboptimally if you index the buckets as `buckets[hash(s)]` instead of `buckets[hash(s), band]`. Why is this the case?  "
   ]
  },
  {
   "cell_type": "markdown",
   "metadata": {},
   "source": [
    "### Step 3: Compute the LSH for our shingle sets\n",
    "Similarly as before, compute the minhash signature matrix using the 100 random hash functions. Use a bucket size of 10000 and 5 rows per band."
   ]
  },
  {
   "cell_type": "code",
   "execution_count": null,
   "metadata": {},
   "outputs": [],
   "source": [
    "# Initialize a list for the 100 random hash functions\n",
    "rhashes = [RandomHashFunction(100, 100) for i in range(100)]\n",
    "\n",
    "# Calculate the Minhash Signature Matrix\n",
    "mhs = compute_signature(space, rhashes, sets)\n",
    "\n",
    "# Apply Locally Sensitive Hashing to find candidate pairs\n",
    "result = compute_candidates(mhs, 10000, 5)\n",
    "\n",
    "for x in result:\n",
    "    jd = jaccard_distance(sets[x[0]], sets[x[1]])\n",
    "    e1 = x[0] + 1\n",
    "    e2 = x[1] + 1\n",
    "    if jd < 0.5:\n",
    "        print(\"-- ShingleSets: {} within tolerance -- jaccard distance {}\".format((e1, e2), jd))\n",
    "    else:\n",
    "        print(\"-- ShingleSets: {} not within tolerance -- jaccard distance {}\".format((e1, e2), jd))"
   ]
  },
  {
   "cell_type": "markdown",
   "metadata": {},
   "source": [
    "$\\textbf{Question 7}$: If you run the code multiple times you may notice that sometimes you get different candidates. Why is that the case?"
   ]
  },
  {
   "cell_type": "markdown",
   "metadata": {},
   "source": [
    "$\\textbf{Question 8}$: Run your code 10 times. Write down on a piece of paper which candidates are suggested and how many times each of them is suggested. How does this relate to the Jaccard distance between the two sets of candidate pairs (not in terms of formulas, just an indication)? To verify your understanding, compute the Jaccard distance between all possible combinations of all ShingleSets and compare this to the frequencies (how many times a pair is suggested as a candidate)."
   ]
  },
  {
   "cell_type": "markdown",
   "metadata": {},
   "source": [
    "$\\textbf{Question 9}$: Why (or when) would you use this algorithm?"
   ]
  },
  {
   "cell_type": "markdown",
   "metadata": {},
   "source": [
    "$\\textbf{Question 10}$: What will happen if the number of buckets is too small? For example what would happen\n",
    "if we only use 10 buckets?  "
   ]
  },
  {
   "cell_type": "markdown",
   "metadata": {},
   "source": [
    "$\\textbf{Question 11}$: What is the effect of the number of rows per band? What will happen if we set the number of rows per band to 1? What will happen if you set the number of rows per band to the length of the signature?  "
   ]
  }
 ],
 "metadata": {
  "kernelspec": {
   "display_name": "Python 3 (ipykernel)",
   "language": "python",
   "name": "python3"
  },
  "language_info": {
   "codemirror_mode": {
    "name": "ipython",
    "version": 3
   },
   "file_extension": ".py",
   "mimetype": "text/x-python",
   "name": "python",
   "nbconvert_exporter": "python",
   "pygments_lexer": "ipython3",
   "version": "3.9.7"
  }
 },
 "nbformat": 4,
 "nbformat_minor": 2
}
